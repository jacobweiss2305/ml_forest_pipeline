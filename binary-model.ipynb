{
 "cells": [
  {
   "cell_type": "markdown",
   "id": "995bac6e-7d9a-4d02-be55-ee0f496cb52f",
   "metadata": {},
   "source": [
    "# Binary Classification Model Pipeline"
   ]
  },
  {
   "cell_type": "code",
   "execution_count": 1,
   "id": "d5b7e874-a371-4753-912c-f714e978a49d",
   "metadata": {},
   "outputs": [],
   "source": [
    "from typing import Any, Dict, Tuple\n",
    "from datetime import datetime, timezone\n",
    "import random\n",
    "import os\n",
    "\n",
    "import numpy as np\n",
    "import pandas as pd\n",
    "from tqdm import tqdm\n",
    "from sklearn import preprocessing\n",
    "import matplotlib.pyplot as plt\n",
    "import yaml\n",
    "\n",
    "from utils import data_prep as prep\n",
    "from utils import model\n",
    "\n",
    "pd.options.display.max_columns = None"
   ]
  },
  {
   "cell_type": "code",
   "execution_count": 2,
   "id": "c8511257-38c3-4e4d-a349-26abbff2c00d",
   "metadata": {},
   "outputs": [],
   "source": [
    "home = os.path.expanduser(\"~\")\n",
    "os.environ[\"GOOGLE_APPLICATION_CREDENTIALS\"] = \"creds.json\""
   ]
  },
  {
   "cell_type": "markdown",
   "id": "a7554442-4d4a-4591-8610-95e6f70bf44e",
   "metadata": {},
   "source": [
    "## Data Load"
   ]
  },
  {
   "cell_type": "code",
   "execution_count": 20,
   "id": "61baa1d0-585f-4d79-979d-babdc3b4dc8e",
   "metadata": {},
   "outputs": [],
   "source": [
    "raw_data = pd.read_gbq(\"SELECT * FROM\")"
   ]
  },
  {
   "cell_type": "code",
   "execution_count": 21,
   "id": "5c09ce94-3e27-49fa-991c-adebffacbd1b",
   "metadata": {},
   "outputs": [
    {
     "data": {
      "text/plain": [
       "0    0.953811\n",
       "1    0.046189\n",
       "Name: output, dtype: float64"
      ]
     },
     "execution_count": 21,
     "metadata": {},
     "output_type": "execute_result"
    }
   ],
   "source": [
    "raw_data.output.value_counts(normalize = True)"
   ]
  },
  {
   "cell_type": "markdown",
   "id": "ed47afff-2e5b-4da8-9009-4aa149c6abcd",
   "metadata": {},
   "source": [
    "## Data Prep"
   ]
  },
  {
   "cell_type": "code",
   "execution_count": 22,
   "id": "800384c7-c95b-4ba8-9c88-a7a424840284",
   "metadata": {},
   "outputs": [],
   "source": [
    "# Loading data prep parameters\n",
    "with open('config/data-prep-params.yml', 'r') as file:\n",
    "    prep_params = yaml.safe_load(file)"
   ]
  },
  {
   "cell_type": "code",
   "execution_count": 23,
   "id": "2ef13d34-d4cb-4284-9805-f16698145e98",
   "metadata": {},
   "outputs": [],
   "source": [
    "features = list(prep_params[\"feature_engineering_map\"].keys())\n",
    "raw_features = raw_data[features]"
   ]
  },
  {
   "cell_type": "code",
   "execution_count": null,
   "id": "d7c1bc4a-dc5f-4d00-9a67-325b9f1a6cc0",
   "metadata": {},
   "outputs": [],
   "source": [
    "# Remove columns that have a 80% nan coverage\n",
    "step_1 = prep.remove_sparse_columns(raw_features, prep_params)\n",
    "step_1.head()"
   ]
  },
  {
   "cell_type": "code",
   "execution_count": null,
   "id": "9078fcbd-bb41-4268-82e4-4e3428fb0304",
   "metadata": {},
   "outputs": [],
   "source": [
    "# Apply Standard Scalar and Mean imputation to continuous variables\n",
    "step_2, scaler = prep.continuous_variables(step_1, prep_params, True)\n",
    "step_2.head()"
   ]
  },
  {
   "cell_type": "code",
   "execution_count": null,
   "id": "ae73f0af-9b18-4d1d-8882-3fd4d73149c3",
   "metadata": {},
   "outputs": [],
   "source": [
    "# Apply label encoding to categorical variables\n",
    "step_3 = prep.categorical_variables(step_1, prep_params, prep_params[\"categorical_label\"])\n",
    "step_3.head()"
   ]
  },
  {
   "cell_type": "code",
   "execution_count": null,
   "id": "d312be15-45b7-4467-9a93-579d2b5b9f9c",
   "metadata": {},
   "outputs": [],
   "source": [
    "# Combine features and response variable\n",
    "feature_table = pd.concat([raw_data[\"output\"], step_2, step_3], axis = 1)\n",
    "feature_table.head()"
   ]
  },
  {
   "cell_type": "markdown",
   "id": "f97d265f-bfac-4e96-94f3-3117e3bd2cf3",
   "metadata": {},
   "source": [
    "## Model Build"
   ]
  },
  {
   "cell_type": "code",
   "execution_count": 28,
   "id": "0118a339-83ff-4b41-9fc2-cc7d6ed2574f",
   "metadata": {},
   "outputs": [],
   "source": [
    "from sklearn.ensemble import RandomForestClassifier"
   ]
  },
  {
   "cell_type": "code",
   "execution_count": 29,
   "id": "f8cf0df1-ea0b-4e29-b36e-21933b42a131",
   "metadata": {},
   "outputs": [],
   "source": [
    "# Split data into train and test set.\n",
    "X_train, X_test, y_train, y_test = model.split_data(feature_table, \"output\")"
   ]
  },
  {
   "cell_type": "code",
   "execution_count": 30,
   "id": "3f0e1da1-f69d-40c8-b954-98c3322a4ed0",
   "metadata": {},
   "outputs": [],
   "source": [
    "# Apply random oversampling for any class imbalance\n",
    "X_resampled, y_resampled = model.random_over_sample(X_train, y_train)"
   ]
  },
  {
   "cell_type": "code",
   "execution_count": 31,
   "id": "eb06ef2a-d14c-4e25-be6d-f14aae4473d9",
   "metadata": {},
   "outputs": [],
   "source": [
    "model_fit = model.train_model(X_resampled, y_resampled, RandomForestClassifier)"
   ]
  },
  {
   "cell_type": "markdown",
   "id": "ef43fcd3-efb5-4cba-854f-0a3e69f830d7",
   "metadata": {},
   "source": [
    "## Evaluation"
   ]
  },
  {
   "cell_type": "code",
   "execution_count": 32,
   "id": "e59f673d-f745-4a67-ad4f-578fc9b914ab",
   "metadata": {},
   "outputs": [
    {
     "data": {
      "text/plain": [
       "0.7707428200296202"
      ]
     },
     "execution_count": 32,
     "metadata": {},
     "output_type": "execute_result"
    }
   ],
   "source": [
    "y_pred = model_fit.predict(X_test)\n",
    "model.eval_accuracy(y_test, y_pred)"
   ]
  },
  {
   "cell_type": "code",
   "execution_count": 33,
   "id": "f646e059-3151-4ec1-808b-3e6b4110fea3",
   "metadata": {},
   "outputs": [
    {
     "data": {
      "text/html": [
       "<div>\n",
       "<style scoped>\n",
       "    .dataframe tbody tr th:only-of-type {\n",
       "        vertical-align: middle;\n",
       "    }\n",
       "\n",
       "    .dataframe tbody tr th {\n",
       "        vertical-align: top;\n",
       "    }\n",
       "\n",
       "    .dataframe thead th {\n",
       "        text-align: right;\n",
       "    }\n",
       "</style>\n",
       "<table border=\"1\" class=\"dataframe\">\n",
       "  <thead>\n",
       "    <tr style=\"text-align: right;\">\n",
       "      <th></th>\n",
       "      <th>0</th>\n",
       "      <th>1</th>\n",
       "      <th>accuracy</th>\n",
       "      <th>macro avg</th>\n",
       "      <th>weighted avg</th>\n",
       "    </tr>\n",
       "  </thead>\n",
       "  <tbody>\n",
       "    <tr>\n",
       "      <th>precision</th>\n",
       "      <td>0.964389</td>\n",
       "      <td>0.084923</td>\n",
       "      <td>0.770743</td>\n",
       "      <td>0.524656</td>\n",
       "      <td>0.923521</td>\n",
       "    </tr>\n",
       "    <tr>\n",
       "      <th>recall</th>\n",
       "      <td>0.788694</td>\n",
       "      <td>0.402393</td>\n",
       "      <td>0.770743</td>\n",
       "      <td>0.595543</td>\n",
       "      <td>0.770743</td>\n",
       "    </tr>\n",
       "    <tr>\n",
       "      <th>f1-score</th>\n",
       "      <td>0.867737</td>\n",
       "      <td>0.140248</td>\n",
       "      <td>0.770743</td>\n",
       "      <td>0.503992</td>\n",
       "      <td>0.833931</td>\n",
       "    </tr>\n",
       "    <tr>\n",
       "      <th>support</th>\n",
       "      <td>581384.000000</td>\n",
       "      <td>28333.000000</td>\n",
       "      <td>0.770743</td>\n",
       "      <td>609717.000000</td>\n",
       "      <td>609717.000000</td>\n",
       "    </tr>\n",
       "  </tbody>\n",
       "</table>\n",
       "</div>"
      ],
      "text/plain": [
       "                       0             1  accuracy      macro avg   weighted avg\n",
       "precision       0.964389      0.084923  0.770743       0.524656       0.923521\n",
       "recall          0.788694      0.402393  0.770743       0.595543       0.770743\n",
       "f1-score        0.867737      0.140248  0.770743       0.503992       0.833931\n",
       "support    581384.000000  28333.000000  0.770743  609717.000000  609717.000000"
      ]
     },
     "execution_count": 33,
     "metadata": {},
     "output_type": "execute_result"
    }
   ],
   "source": [
    "from sklearn.metrics import classification_report\n",
    "report = classification_report(y_test, y_pred, output_dict=True)\n",
    "pd.DataFrame(report)"
   ]
  },
  {
   "cell_type": "code",
   "execution_count": 34,
   "id": "d98a99ae-e453-4c5b-8993-0f469c6d6177",
   "metadata": {},
   "outputs": [],
   "source": [
    "pd.DataFrame(report).to_csv(\"figures/classification_report_120day_conversion.csv\")"
   ]
  },
  {
   "cell_type": "code",
   "execution_count": null,
   "id": "767d8866-40fe-47e7-be14-c3f41f76dd41",
   "metadata": {},
   "outputs": [],
   "source": []
  }
 ],
 "metadata": {
  "environment": {
   "kernel": "python3",
   "name": "common-cpu.m91",
   "type": "gcloud",
   "uri": "gcr.io/deeplearning-platform-release/base-cpu:m91"
  },
  "kernelspec": {
   "display_name": "Python 3",
   "language": "python",
   "name": "python3"
  },
  "language_info": {
   "codemirror_mode": {
    "name": "ipython",
    "version": 3
   },
   "file_extension": ".py",
   "mimetype": "text/x-python",
   "name": "python",
   "nbconvert_exporter": "python",
   "pygments_lexer": "ipython3",
   "version": "3.7.12"
  }
 },
 "nbformat": 4,
 "nbformat_minor": 5
}
